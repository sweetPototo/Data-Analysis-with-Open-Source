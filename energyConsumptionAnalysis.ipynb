{
  "nbformat": 4,
  "nbformat_minor": 0,
  "metadata": {
    "colab": {
      "provenance": [],
      "include_colab_link": true
    },
    "kernelspec": {
      "name": "python3",
      "display_name": "Python 3"
    },
    "language_info": {
      "name": "python"
    }
  },
  "cells": [
    {
      "cell_type": "markdown",
      "metadata": {
        "id": "view-in-github",
        "colab_type": "text"
      },
      "source": [
        "<a href=\"https://colab.research.google.com/github/sweetPototo/Data-Analysis-with-Open-Source/blob/main/energyConsumptionAnalysis.ipynb\" target=\"_parent\"><img src=\"https://colab.research.google.com/assets/colab-badge.svg\" alt=\"Open In Colab\"/></a>"
      ]
    },
    {
      "cell_type": "markdown",
      "source": [
        "# 과제 : 서울시 에코마일리지 에너지사용량 통계정보"
      ],
      "metadata": {
        "id": "EtjZiTaxLjdH"
      }
    },
    {
      "cell_type": "markdown",
      "source": [
        "오픈소스 연결"
      ],
      "metadata": {
        "id": "EdHUe1hr3bho"
      }
    },
    {
      "cell_type": "code",
      "source": [
        "import requests\n",
        "\n",
        "api_key = \"6d4b686f767368703131395a4e4f644d\"\n",
        "url = 'http://openapi.seoul.go.kr:8088/6d4b686f767368703131395a4e4f644d/xml/energyUseDataSummaryInfo/1/5/'\n",
        "'''\n",
        "인증키\n",
        "4e6569694673687038336b75434572\n",
        "6d4b686f767368703131395a4e4f644d\n",
        "'''\n",
        "\n",
        "\n",
        "response = requests.get(url)\n",
        "print(response.content)\n",
        "\n",
        "if response.status_code == 200:\n",
        "  print(\"api 호출 성공\")\n",
        "  print(response.json())\n",
        "else:\n",
        "  print(f\"API 호출 실패: {response.status_code}\")"
      ],
      "metadata": {
        "id": "b0odUfVq3bNF",
        "colab": {
          "base_uri": "https://localhost:8080/",
          "height": 485
        },
        "outputId": "9e807384-b863-4866-9332-5c0456ca54fb"
      },
      "execution_count": 7,
      "outputs": [
        {
          "output_type": "stream",
          "name": "stdout",
          "text": [
            "b'<?xml version=\"1.0\" encoding=\"UTF-8\"?>\\n<energyUseDataSummaryInfo>\\n<list_total_count>1241</list_total_count>\\n<RESULT>\\n<CODE>INFO-000</CODE>\\n<MESSAGE>\\xec\\xa0\\x95\\xec\\x83\\x81 \\xec\\xb2\\x98\\xeb\\xa6\\xac\\xeb\\x90\\x98\\xec\\x97\\x88\\xec\\x8a\\xb5\\xeb\\x8b\\x88\\xeb\\x8b\\xa4</MESSAGE>\\n</RESULT>\\n<row>\\n<YEAR>2025</YEAR>\\n<MON>06</MON>\\n<MM_TYPE>\\xea\\xb0\\x9c\\xec\\x9d\\xb8</MM_TYPE>\\n<CNT>1269454</CNT>\\n<EUS>278745288</EUS>\\n<EUS1>275851011</EUS1>\\n<EUS2>273151435</EUS2>\\n<ECO2_1>4244065</ECO2_1>\\n<ECO2_2>2076623.656</ECO2_2>\\n<GUS>13084768</GUS>\\n<GUS1>11889039</GUS1>\\n<GUS2>12094650</GUS2>\\n<GCO2_1>1091102</GCO2_1>\\n<GCO2_2>2182204</GCO2_2>\\n<WUS>14927683.6</WUS>\\n<WUS1>15166284.8</WUS1>\\n<WUS2>15371662.2</WUS2>\\n<WCO2_1>-341289.9</WCO2_1>\\n<WCO2_2>-611822.446</WCO2_2>\\n<HUS>379182.22</HUS>\\n<HUS1>368839.049</HUS1>\\n<HUS2>389847.167</HUS2>\\n<HCO2_1>-160.888</HCO2_1>\\n<HCO2_2>-22448.67848156</HCO2_2>\\n<REG_DATE>2025-09-01 04:02:15.0</REG_DATE>\\n</row>\\n<row>\\n<YEAR>2025</YEAR>\\n<MON>06</MON>\\n<MM_TYPE>\\xed\\x95\\x99\\xea\\xb5\\x90</MM_TYPE>\\n<CNT>6745</CNT>\\n<EUS>117808793</EUS>\\n<EUS1>114793127</EUS1>\\n<EUS2>114623246</EUS2>\\n<ECO2_1>3100606.5</ECO2_1>\\n<ECO2_2>3096973.668</ECO2_2>\\n<GUS>2093441</GUS>\\n<GUS1>2046804</GUS1>\\n<GUS2>2061648</GUS2>\\n<GCO2_1>39207</GCO2_1>\\n<GCO2_2>78414</GCO2_2>\\n<WUS>1824338.2</WUS>\\n<WUS1>1914804.2</WUS1>\\n<WUS2>1956560.2</WUS2>\\n<WCO2_1>-111344</WCO2_1>\\n<WCO2_2>-333633.134</WCO2_2>\\n<HUS>8.03</HUS>\\n<HUS1>8.03</HUS1>\\n<HUS2>8.03</HUS2>\\n<HCO2_1>0</HCO2_1>\\n<HCO2_2>0</HCO2_2>\\n<REG_DATE>2025-09-01 04:02:15.0</REG_DATE>\\n</row>\\n<row>\\n<YEAR>2025</YEAR>\\n<MON>06</MON>\\n<MM_TYPE>\\xea\\xb3\\xb5\\xeb\\x8f\\x99\\xec\\xa3\\xbc\\xed\\x83\\x9d\\xea\\xb4\\x80\\xeb\\xa6\\xac\\xec\\x86\\x8c</MM_TYPE>\\n<CNT>3729</CNT>\\n<EUS>498863841</EUS>\\n<EUS1>496003195</EUS1>\\n<EUS2>488758810</EUS2>\\n<ECO2_1>6482838.5</ECO2_1>\\n<ECO2_2>6482838.5</ECO2_2>\\n<GUS>2853437</GUS>\\n<GUS1>2552964</GUS1>\\n<GUS2>2586972</GUS2>\\n<GCO2_1>283460.5</GCO2_1>\\n<GCO2_2>566921</GCO2_2>\\n<WUS>20407812.7</WUS>\\n<WUS1>20616193.4</WUS1>\\n<WUS2>20794568.4</WUS2>\\n<WCO2_1>-297568.2</WCO2_1>\\n<WCO2_2>-892704.6</WCO2_2>\\n<HUS>0</HUS>\\n<HUS1>0</HUS1>\\n<HUS2>0</HUS2>\\n<HCO2_1>0</HCO2_1>\\n<HCO2_2>0</HCO2_2>\\n<REG_DATE>2025-09-01 04:02:15.0</REG_DATE>\\n</row>\\n<row>\\n<YEAR>2025</YEAR>\\n<MON>06</MON>\\n<MM_TYPE>\\xec\\xa2\\x85\\xea\\xb5\\x90\\xeb\\x8b\\xa8\\xec\\xb2\\xb4</MM_TYPE>\\n<CNT>849</CNT>\\n<EUS>6205342</EUS>\\n<EUS1>6171454</EUS1>\\n<EUS2>6094109</EUS2>\\n<ECO2_1>72560.5</ECO2_1>\\n<ECO2_2>72560.5</ECO2_2>\\n<GUS>139336</GUS>\\n<GUS1>152116</GUS1>\\n<GUS2>141705</GUS2>\\n<GCO2_1>-7575</GCO2_1>\\n<GCO2_2>-15150</GCO2_2>\\n<WUS>52228</WUS>\\n<WUS1>51779</WUS1>\\n<WUS2>49094</WUS2>\\n<WCO2_1>1791.5</WCO2_1>\\n<WCO2_2>5374.5</WCO2_2>\\n<HUS>0</HUS>\\n<HUS1>0</HUS1>\\n<HUS2>0</HUS2>\\n<HCO2_1>0</HCO2_1>\\n<HCO2_2>0</HCO2_2>\\n<REG_DATE>2025-09-01 04:02:15.0</REG_DATE>\\n</row>\\n<row>\\n<YEAR>2025</YEAR>\\n<MON>06</MON>\\n<MM_TYPE>\\xec\\x86\\x8c\\xec\\x83\\x81\\xea\\xb3\\xb5\\xec\\x9d\\xb8</MM_TYPE>\\n<CNT>53274</CNT>\\n<EUS>96254029</EUS>\\n<EUS1>98122772</EUS1>\\n<EUS2>98464917</EUS2>\\n<ECO2_1>-2039815.5</ECO2_1>\\n<ECO2_2>-2043866.22</ECO2_2>\\n<GUS>1638563</GUS>\\n<GUS1>1647690</GUS1>\\n<GUS2>1687480</GUS2>\\n<GCO2_1>-27668</GCO2_1>\\n<GCO2_2>-55336</GCO2_2>\\n<WUS>1526737.8</WUS>\\n<WUS1>1541313.8</WUS1>\\n<WUS2>1576869.2</WUS2>\\n<WCO2_1>-32353.7</WCO2_1>\\n<WCO2_2>-97437.288</WCO2_2>\\n<HUS>2</HUS>\\n<HUS1>2</HUS1>\\n<HUS2>2</HUS2>\\n<HCO2_1>0</HCO2_1>\\n<HCO2_2>0</HCO2_2>\\n<REG_DATE>2025-09-01 04:02:15.0</REG_DATE>\\n</row>\\n</energyUseDataSummaryInfo>\\n'\n",
            "api 호출 성공\n"
          ]
        },
        {
          "output_type": "error",
          "ename": "JSONDecodeError",
          "evalue": "Expecting value: line 1 column 1 (char 0)",
          "traceback": [
            "\u001b[0;31m---------------------------------------------------------------------------\u001b[0m",
            "\u001b[0;31mJSONDecodeError\u001b[0m                           Traceback (most recent call last)",
            "\u001b[0;32m/usr/local/lib/python3.12/dist-packages/requests/models.py\u001b[0m in \u001b[0;36mjson\u001b[0;34m(self, **kwargs)\u001b[0m\n\u001b[1;32m    975\u001b[0m         \u001b[0;32mtry\u001b[0m\u001b[0;34m:\u001b[0m\u001b[0;34m\u001b[0m\u001b[0;34m\u001b[0m\u001b[0m\n\u001b[0;32m--> 976\u001b[0;31m             \u001b[0;32mreturn\u001b[0m \u001b[0mcomplexjson\u001b[0m\u001b[0;34m.\u001b[0m\u001b[0mloads\u001b[0m\u001b[0;34m(\u001b[0m\u001b[0mself\u001b[0m\u001b[0;34m.\u001b[0m\u001b[0mtext\u001b[0m\u001b[0;34m,\u001b[0m \u001b[0;34m**\u001b[0m\u001b[0mkwargs\u001b[0m\u001b[0;34m)\u001b[0m\u001b[0;34m\u001b[0m\u001b[0;34m\u001b[0m\u001b[0m\n\u001b[0m\u001b[1;32m    977\u001b[0m         \u001b[0;32mexcept\u001b[0m \u001b[0mJSONDecodeError\u001b[0m \u001b[0;32mas\u001b[0m \u001b[0me\u001b[0m\u001b[0;34m:\u001b[0m\u001b[0;34m\u001b[0m\u001b[0;34m\u001b[0m\u001b[0m\n",
            "\u001b[0;32m/usr/local/lib/python3.12/dist-packages/simplejson/__init__.py\u001b[0m in \u001b[0;36mloads\u001b[0;34m(s, encoding, cls, object_hook, parse_float, parse_int, parse_constant, object_pairs_hook, use_decimal, allow_nan, **kw)\u001b[0m\n\u001b[1;32m    513\u001b[0m             and not use_decimal and not allow_nan and not kw):\n\u001b[0;32m--> 514\u001b[0;31m         \u001b[0;32mreturn\u001b[0m \u001b[0m_default_decoder\u001b[0m\u001b[0;34m.\u001b[0m\u001b[0mdecode\u001b[0m\u001b[0;34m(\u001b[0m\u001b[0ms\u001b[0m\u001b[0;34m)\u001b[0m\u001b[0;34m\u001b[0m\u001b[0;34m\u001b[0m\u001b[0m\n\u001b[0m\u001b[1;32m    515\u001b[0m     \u001b[0;32mif\u001b[0m \u001b[0mcls\u001b[0m \u001b[0;32mis\u001b[0m \u001b[0;32mNone\u001b[0m\u001b[0;34m:\u001b[0m\u001b[0;34m\u001b[0m\u001b[0;34m\u001b[0m\u001b[0m\n",
            "\u001b[0;32m/usr/local/lib/python3.12/dist-packages/simplejson/decoder.py\u001b[0m in \u001b[0;36mdecode\u001b[0;34m(self, s, _w, _PY3)\u001b[0m\n\u001b[1;32m    385\u001b[0m             \u001b[0ms\u001b[0m \u001b[0;34m=\u001b[0m \u001b[0mstr\u001b[0m\u001b[0;34m(\u001b[0m\u001b[0ms\u001b[0m\u001b[0;34m,\u001b[0m \u001b[0mself\u001b[0m\u001b[0;34m.\u001b[0m\u001b[0mencoding\u001b[0m\u001b[0;34m)\u001b[0m\u001b[0;34m\u001b[0m\u001b[0;34m\u001b[0m\u001b[0m\n\u001b[0;32m--> 386\u001b[0;31m         \u001b[0mobj\u001b[0m\u001b[0;34m,\u001b[0m \u001b[0mend\u001b[0m \u001b[0;34m=\u001b[0m \u001b[0mself\u001b[0m\u001b[0;34m.\u001b[0m\u001b[0mraw_decode\u001b[0m\u001b[0;34m(\u001b[0m\u001b[0ms\u001b[0m\u001b[0;34m)\u001b[0m\u001b[0;34m\u001b[0m\u001b[0;34m\u001b[0m\u001b[0m\n\u001b[0m\u001b[1;32m    387\u001b[0m         \u001b[0mend\u001b[0m \u001b[0;34m=\u001b[0m \u001b[0m_w\u001b[0m\u001b[0;34m(\u001b[0m\u001b[0ms\u001b[0m\u001b[0;34m,\u001b[0m \u001b[0mend\u001b[0m\u001b[0;34m)\u001b[0m\u001b[0;34m.\u001b[0m\u001b[0mend\u001b[0m\u001b[0;34m(\u001b[0m\u001b[0;34m)\u001b[0m\u001b[0;34m\u001b[0m\u001b[0;34m\u001b[0m\u001b[0m\n",
            "\u001b[0;32m/usr/local/lib/python3.12/dist-packages/simplejson/decoder.py\u001b[0m in \u001b[0;36mraw_decode\u001b[0;34m(self, s, idx, _w, _PY3)\u001b[0m\n\u001b[1;32m    415\u001b[0m                 \u001b[0midx\u001b[0m \u001b[0;34m+=\u001b[0m \u001b[0;36m3\u001b[0m\u001b[0;34m\u001b[0m\u001b[0;34m\u001b[0m\u001b[0m\n\u001b[0;32m--> 416\u001b[0;31m         \u001b[0;32mreturn\u001b[0m \u001b[0mself\u001b[0m\u001b[0;34m.\u001b[0m\u001b[0mscan_once\u001b[0m\u001b[0;34m(\u001b[0m\u001b[0ms\u001b[0m\u001b[0;34m,\u001b[0m \u001b[0midx\u001b[0m\u001b[0;34m=\u001b[0m\u001b[0m_w\u001b[0m\u001b[0;34m(\u001b[0m\u001b[0ms\u001b[0m\u001b[0;34m,\u001b[0m \u001b[0midx\u001b[0m\u001b[0;34m)\u001b[0m\u001b[0;34m.\u001b[0m\u001b[0mend\u001b[0m\u001b[0;34m(\u001b[0m\u001b[0;34m)\u001b[0m\u001b[0;34m)\u001b[0m\u001b[0;34m\u001b[0m\u001b[0;34m\u001b[0m\u001b[0m\n\u001b[0m",
            "\u001b[0;31mJSONDecodeError\u001b[0m: Expecting value: line 1 column 1 (char 0)",
            "\nDuring handling of the above exception, another exception occurred:\n",
            "\u001b[0;31mJSONDecodeError\u001b[0m                           Traceback (most recent call last)",
            "\u001b[0;32m/tmp/ipython-input-2679975798.py\u001b[0m in \u001b[0;36m<cell line: 0>\u001b[0;34m()\u001b[0m\n\u001b[1;32m      9\u001b[0m \u001b[0;32mif\u001b[0m \u001b[0mresponse\u001b[0m\u001b[0;34m.\u001b[0m\u001b[0mstatus_code\u001b[0m \u001b[0;34m==\u001b[0m \u001b[0;36m200\u001b[0m\u001b[0;34m:\u001b[0m\u001b[0;34m\u001b[0m\u001b[0;34m\u001b[0m\u001b[0m\n\u001b[1;32m     10\u001b[0m   \u001b[0mprint\u001b[0m\u001b[0;34m(\u001b[0m\u001b[0;34m\"api 호출 성공\"\u001b[0m\u001b[0;34m)\u001b[0m\u001b[0;34m\u001b[0m\u001b[0;34m\u001b[0m\u001b[0m\n\u001b[0;32m---> 11\u001b[0;31m   \u001b[0mprint\u001b[0m\u001b[0;34m(\u001b[0m\u001b[0mresponse\u001b[0m\u001b[0;34m.\u001b[0m\u001b[0mjson\u001b[0m\u001b[0;34m(\u001b[0m\u001b[0;34m)\u001b[0m\u001b[0;34m)\u001b[0m\u001b[0;34m\u001b[0m\u001b[0;34m\u001b[0m\u001b[0m\n\u001b[0m\u001b[1;32m     12\u001b[0m \u001b[0;32melse\u001b[0m\u001b[0;34m:\u001b[0m\u001b[0;34m\u001b[0m\u001b[0;34m\u001b[0m\u001b[0m\n\u001b[1;32m     13\u001b[0m   \u001b[0mprint\u001b[0m\u001b[0;34m(\u001b[0m\u001b[0;34mf\"API 호출 실패: {response.status_code}\"\u001b[0m\u001b[0;34m)\u001b[0m\u001b[0;34m\u001b[0m\u001b[0;34m\u001b[0m\u001b[0m\n",
            "\u001b[0;32m/usr/local/lib/python3.12/dist-packages/requests/models.py\u001b[0m in \u001b[0;36mjson\u001b[0;34m(self, **kwargs)\u001b[0m\n\u001b[1;32m    978\u001b[0m             \u001b[0;31m# Catch JSON-related errors and raise as requests.JSONDecodeError\u001b[0m\u001b[0;34m\u001b[0m\u001b[0;34m\u001b[0m\u001b[0m\n\u001b[1;32m    979\u001b[0m             \u001b[0;31m# This aliases json.JSONDecodeError and simplejson.JSONDecodeError\u001b[0m\u001b[0;34m\u001b[0m\u001b[0;34m\u001b[0m\u001b[0m\n\u001b[0;32m--> 980\u001b[0;31m             \u001b[0;32mraise\u001b[0m \u001b[0mRequestsJSONDecodeError\u001b[0m\u001b[0;34m(\u001b[0m\u001b[0me\u001b[0m\u001b[0;34m.\u001b[0m\u001b[0mmsg\u001b[0m\u001b[0;34m,\u001b[0m \u001b[0me\u001b[0m\u001b[0;34m.\u001b[0m\u001b[0mdoc\u001b[0m\u001b[0;34m,\u001b[0m \u001b[0me\u001b[0m\u001b[0;34m.\u001b[0m\u001b[0mpos\u001b[0m\u001b[0;34m)\u001b[0m\u001b[0;34m\u001b[0m\u001b[0;34m\u001b[0m\u001b[0m\n\u001b[0m\u001b[1;32m    981\u001b[0m \u001b[0;34m\u001b[0m\u001b[0m\n\u001b[1;32m    982\u001b[0m     \u001b[0;34m@\u001b[0m\u001b[0mproperty\u001b[0m\u001b[0;34m\u001b[0m\u001b[0;34m\u001b[0m\u001b[0m\n",
            "\u001b[0;31mJSONDecodeError\u001b[0m: Expecting value: line 1 column 1 (char 0)"
          ]
        }
      ]
    },
    {
      "cell_type": "code",
      "source": [
        "import requests\n",
        "url= 'http://openapi.seoul.go.kr:8088/sample/xml/CardSubwayStatsNew/1/5/2022030'\n",
        "response = requests.get(url)\n",
        "print(response.content)"
      ],
      "metadata": {
        "id": "sjTLNgyH0Rzd",
        "outputId": "1169eb5b-4a2f-41f2-ec86-f3bea0875680",
        "colab": {
          "base_uri": "https://localhost:8080/"
        }
      },
      "execution_count": 5,
      "outputs": [
        {
          "output_type": "stream",
          "name": "stdout",
          "text": [
            "b'<?xml version=\"1.0\" encoding=\"UTF-8\"?>\\n<RESULT>\\n<CODE>INFO-200</CODE>\\n<MESSAGE>\\xed\\x95\\xb4\\xeb\\x8b\\xb9\\xed\\x95\\x98\\xeb\\x8a\\x94 \\xeb\\x8d\\xb0\\xec\\x9d\\xb4\\xed\\x84\\xb0\\xea\\xb0\\x80 \\xec\\x97\\x86\\xec\\x8a\\xb5\\xeb\\x8b\\x88\\xeb\\x8b\\xa4.</MESSAGE>\\n</RESULT>\\n'\n"
          ]
        }
      ]
    }
  ]
}